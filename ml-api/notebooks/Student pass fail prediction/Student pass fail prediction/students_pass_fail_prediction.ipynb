{
  "cells": [
    {
      "cell_type": "code",
      "execution_count": null,
      "metadata": {
        "colab": {
          "background_save": true
        },
        "id": "SXZ4Cf7SqzZl"
      },
      "outputs": [],
      "source": [
        "pip install tensorflow pandas numpy matplotlib scikit-learn imbalanced-learn"
      ]
    },
    {
      "cell_type": "code",
      "execution_count": null,
      "metadata": {
        "colab": {
          "background_save": true
        },
        "id": "OK2fb5_xO5AG"
      },
      "outputs": [],
      "source": []
    },
    {
      "cell_type": "code",
      "execution_count": null,
      "metadata": {
        "colab": {
          "background_save": true
        },
        "id": "1XSuWXUWLQ9b"
      },
      "outputs": [],
      "source": [
        "import numpy as np\n",
        "import pandas as pd\n",
        "import tensorflow as tf\n",
        "import matplotlib.pyplot as plt\n",
        "import seaborn as sns\n",
        "\n",
        "from tensorflow.keras import Input, Model\n",
        "from tensorflow.keras.layers import (\n",
        "    LSTM, Dense, Dropout, MultiHeadAttention, LayerNormalization, Flatten\n",
        ")\n",
        "from sklearn.preprocessing import LabelEncoder, MinMaxScaler\n",
        "from sklearn.model_selection import train_test_split\n",
        "from imblearn.over_sampling import SMOTE\n",
        "from sklearn.metrics import classification_report, confusion_matrix\n"
      ]
    },
    {
      "cell_type": "code",
      "execution_count": null,
      "metadata": {
        "colab": {
          "background_save": true
        },
        "id": "CLZUmDXzbMpZ"
      },
      "outputs": [],
      "source": [
        "# Load datasets\n",
        "assessments = pd.read_csv('/content/drive/MyDrive/OULAD-anonymisedData/assessments.csv')\n",
        "student_assessment = pd.read_csv('/content/drive/MyDrive/OULAD-anonymisedData/studentAssessment.csv')\n",
        "student_info = pd.read_csv('/content/drive/MyDrive/OULAD-anonymisedData/studentInfo.csv')\n",
        "vle = pd.read_csv('/content/drive/MyDrive/OULAD-anonymisedData/vle.csv')\n",
        "\n"
      ]
    },
    {
      "cell_type": "code",
      "execution_count": null,
      "metadata": {
        "colab": {
          "background_save": true
        },
        "id": "SyXENQOPjC7v",
        "outputId": "7bc5dbbb-ba2f-46e5-dbe1-85935c4cd1d1"
      },
      "outputs": [
        {
          "name": "stdout",
          "output_type": "stream",
          "text": [
            "Number of bad lines skipped: 0\n"
          ]
        }
      ],
      "source": [
        "# Initialize a counter for bad lines\n",
        "bad_line_count = 0\n",
        "\n",
        "# Define the bad line handler function\n",
        "def bad_line_handler(line, line_number):\n",
        "    global bad_line_count\n",
        "    bad_line_count += 1\n",
        "    print(f\"Skipping line {line_number}: {line}\")\n",
        "    return None\n",
        "\n",
        "# Read the CSV file using the custom bad line handler\n",
        "student_vle = pd.read_csv(\n",
        "    '/content/drive/MyDrive/OULAD-anonymisedData/studentVle.csv',\n",
        "    engine='python',\n",
        "    on_bad_lines=bad_line_handler\n",
        ")\n",
        "\n",
        "# Display the number of bad lines skipped\n",
        "print(f'Number of bad lines skipped: {bad_line_count}')"
      ]
    },
    {
      "cell_type": "markdown",
      "metadata": {
        "id": "_LRuWadY6Rew"
      },
      "source": [
        "Merge Datasets"
      ]
    },
    {
      "cell_type": "code",
      "execution_count": null,
      "metadata": {
        "colab": {
          "background_save": true
        },
        "id": "LGNMIsLJkUUZ",
        "outputId": "5274f624-e6d7-4718-f2df-f0bfe7948233"
      },
      "outputs": [
        {
          "name": "stdout",
          "output_type": "stream",
          "text": [
            "Columns in student_assessment: Index(['id_assessment', 'id_student', 'date_submitted', 'is_banked', 'score'], dtype='object')\n",
            "Columns in assessments: Index(['code_module', 'code_presentation', 'id_assessment', 'assessment_type',\n",
            "       'date', 'weight'],\n",
            "      dtype='object')\n",
            "Columns in student_info: Index(['code_module', 'code_presentation', 'id_student', 'gender', 'region',\n",
            "       'highest_education', 'imd_band', 'age_band', 'num_of_prev_attempts',\n",
            "       'studied_credits', 'disability', 'final_result'],\n",
            "      dtype='object')\n",
            "Columns in vle: Index(['id_site', 'code_module', 'code_presentation', 'activity_type',\n",
            "       'week_from', 'week_to'],\n",
            "      dtype='object')\n",
            "Columns in student_vle: Index(['code_module', 'code_presentation', 'id_student', 'id_site', 'date',\n",
            "       'sum_click'],\n",
            "      dtype='object')\n"
          ]
        }
      ],
      "source": [
        "print(f\"Columns in student_assessment: {student_assessment.columns}\")\n",
        "print(f\"Columns in assessments: {assessments.columns}\")\n",
        "print(f\"Columns in student_info: {student_info.columns}\")\n",
        "print(f\"Columns in vle: {vle.columns}\")\n",
        "print(f\"Columns in student_vle: {student_vle.columns}\")"
      ]
    },
    {
      "cell_type": "code",
      "execution_count": null,
      "metadata": {
        "colab": {
          "background_save": true
        },
        "id": "yTqGIk53OL35"
      },
      "outputs": [],
      "source": [
        "# Merge student info with assessment scores\n",
        "student_data = pd.merge(student_assessment, student_info, on='id_student', how='left')\n",
        "student_data = pd.merge(student_data, assessments, on='id_assessment', how='left')"
      ]
    },
    {
      "cell_type": "code",
      "execution_count": null,
      "metadata": {
        "colab": {
          "background_save": true
        },
        "id": "o4XjtrhEOkgW"
      },
      "outputs": [],
      "source": [
        "# Normalize assessment dates relative to a 270-day course period\n",
        "student_data['normalized_date'] = student_data['date_submitted'] / 270"
      ]
    },
    {
      "cell_type": "code",
      "execution_count": null,
      "metadata": {
        "colab": {
          "background_save": true
        },
        "id": "z9jO_Q2pOpnz"
      },
      "outputs": [],
      "source": [
        "# Define course segments\n",
        "student_data['course_progress'] = pd.cut(\n",
        "    student_data['normalized_date'],\n",
        "    bins=[0, 0.2, 0.4, 0.6, 0.8, 1.0],\n",
        "    labels=['20%', '40%', '60%', '80%', '100%']\n",
        ")\n",
        "\n",
        "# Convert course_progress into one-hot encoding\n",
        "student_data = pd.get_dummies(student_data, columns=['course_progress'])"
      ]
    },
    {
      "cell_type": "code",
      "execution_count": null,
      "metadata": {
        "colab": {
          "background_save": true
        },
        "id": "0o9btlyt-USn"
      },
      "outputs": [],
      "source": [
        "# Ensure time-series ordering for LSTM input\n",
        "student_data = student_data.sort_values(by=['id_student', 'date_submitted'])"
      ]
    },
    {
      "cell_type": "code",
      "execution_count": null,
      "metadata": {
        "colab": {
          "background_save": true
        },
        "id": "wHCUkK2Ctxub"
      },
      "outputs": [],
      "source": [
        "# Aggregate Clickstream Data: Weekly Interactions\n",
        "student_vle['week'] = student_vle['date'] // 7\n",
        "\n",
        "# Summarize total clicks per week per student\n",
        "student_vle_weekly = student_vle.groupby(['id_student', 'week'])['sum_click'].sum().reset_index()\n",
        "\n",
        "# Pivot to create weekly engagement features (one column per week)\n",
        "student_vle_pivot = student_vle_weekly.pivot(index='id_student', columns='week', values='sum_click').fillna(0)\n",
        "\n",
        "# Normalize the clickstream data\n",
        "scaler = MinMaxScaler()\n",
        "student_vle_pivot = pd.DataFrame(scaler.fit_transform(student_vle_pivot), columns=student_vle_pivot.columns, index=student_vle_pivot.index)\n",
        "\n",
        "# Merge with student_data\n",
        "student_data = student_data.merge(student_vle_pivot, on='id_student', how='left')\n",
        "student_data = student_data.fillna(0)  # Fill any missing clickstream values"
      ]
    },
    {
      "cell_type": "code",
      "execution_count": null,
      "metadata": {
        "colab": {
          "background_save": true
        },
        "id": "Ll3nMCI0RZB7"
      },
      "outputs": [],
      "source": [
        "# Drop duplicate columns\n",
        "student_data = student_data.drop(columns=['code_module_y', 'code_presentation_y'])"
      ]
    },
    {
      "cell_type": "code",
      "execution_count": null,
      "metadata": {
        "colab": {
          "background_save": true
        },
        "id": "rdkjJMdxRbir"
      },
      "outputs": [],
      "source": [
        "# Rename the remaining columns\n",
        "student_data = student_data.rename(columns={'code_module_x': 'code_module', 'code_presentation_x': 'code_presentation'})"
      ]
    },
    {
      "cell_type": "code",
      "execution_count": null,
      "metadata": {
        "colab": {
          "background_save": true
        },
        "id": "CzmcKlI2PoxY",
        "outputId": "552d5f01-0232-4e7e-c528-bd998485d817"
      },
      "outputs": [
        {
          "name": "stdout",
          "output_type": "stream",
          "text": [
            "Columns in student_data: Index([       'id_assessment',           'id_student',       'date_submitted',\n",
            "                  'is_banked',                'score',          'code_module',\n",
            "          'code_presentation',               'gender',               'region',\n",
            "          'highest_education',             'imd_band',             'age_band',\n",
            "       'num_of_prev_attempts',      'studied_credits',           'disability',\n",
            "               'final_result',      'assessment_type',                 'date',\n",
            "                     'weight',      'normalized_date',  'course_progress_20%',\n",
            "        'course_progress_40%',  'course_progress_60%',  'course_progress_80%',\n",
            "       'course_progress_100%',                     -4,                     -3,\n",
            "                           -2,                     -1,                      0,\n",
            "                            1,                      2,                      3,\n",
            "                            4,                      5,                      6,\n",
            "                            7,                      8,                      9,\n",
            "                           10,                     11,                     12,\n",
            "                           13,                     14,                     15,\n",
            "                           16,                     17,                     18,\n",
            "                           19,                     20,                     21,\n",
            "                           22,                     23,                     24,\n",
            "                           25,                     26,                     27,\n",
            "                           28,                     29,                     30,\n",
            "                           31,                     32,                     33,\n",
            "                           34,                     35,                     36,\n",
            "                           37,                     38],\n",
            "      dtype='object')\n"
          ]
        }
      ],
      "source": [
        "print(f\"Columns in student_data: {student_data.columns}\")"
      ]
    },
    {
      "cell_type": "markdown",
      "metadata": {
        "id": "uJk2anvI6N4h"
      },
      "source": [
        "Convert Student Performance into Categories\n",
        "\n"
      ]
    },
    {
      "cell_type": "code",
      "execution_count": null,
      "metadata": {
        "colab": {
          "background_save": true
        },
        "id": "bD-e3tPkN94K"
      },
      "outputs": [],
      "source": [
        "# Remove rows where 'date_submitted' is invalid\n",
        "student_data = student_data.dropna(subset=['date_submitted'])\n",
        "student_data = student_data[student_data['date_submitted'] > 0]  # Remove negative/zero dates"
      ]
    },
    {
      "cell_type": "code",
      "execution_count": null,
      "metadata": {
        "colab": {
          "background_save": true
        },
        "id": "IkxD-K1POMMv",
        "outputId": "d4d93a48-33d3-4f99-9aef-b243649be7c3"
      },
      "outputs": [
        {
          "name": "stdout",
          "output_type": "stream",
          "text": [
            "Length in student_data: 203544\n"
          ]
        }
      ],
      "source": [
        "print(f\"Length in student_data: {len(student_data)}\")"
      ]
    },
    {
      "cell_type": "code",
      "execution_count": null,
      "metadata": {
        "colab": {
          "background_save": true
        },
        "id": "jnNXr4XwO-KE"
      },
      "outputs": [],
      "source": [
        "# Merge studentVLE (clickstream) with student_info\n",
        "student_vle_agg = student_vle.groupby(['id_student', 'code_module', 'code_presentation'])['sum_click'].sum().reset_index()\n",
        "\n",
        "# Normalize clickstream interactions\n",
        "scaler = MinMaxScaler()\n",
        "student_vle_agg['normalized_clicks'] = scaler.fit_transform(student_vle_agg[['sum_click']])\n",
        "\n",
        "# Merge with main student_data\n",
        "student_data = student_data.merge(student_vle_agg, on=['id_student', 'code_module', 'code_presentation'], how='left')\n",
        "student_data['normalized_clicks'] = student_data['normalized_clicks'].fillna(0)  # Fill missing values"
      ]
    },
    {
      "cell_type": "code",
      "execution_count": null,
      "metadata": {
        "colab": {
          "background_save": true
        },
        "id": "ZFTN1qNU0LTT",
        "outputId": "46e7a8b1-a761-4eae-c3d3-eda2f811783b"
      },
      "outputs": [
        {
          "name": "stderr",
          "output_type": "stream",
          "text": [
            "<ipython-input-38-90b6cc0910e0>:2: FutureWarning: Downcasting behavior in `replace` is deprecated and will be removed in a future version. To retain the old behavior, explicitly call `result.infer_objects(copy=False)`. To opt-in to the future behavior, set `pd.set_option('future.no_silent_downcasting', True)`\n",
            "  student_data['final_result'] = student_data['final_result'].replace({\n"
          ]
        }
      ],
      "source": [
        "# Convert 'final_result' into numerical categories\n",
        "student_data['final_result'] = student_data['final_result'].replace({\n",
        "    'Distinction': 3, 'Pass': 2, 'Fail': 1, 'Withdrawn': 0\n",
        "})\n",
        "\n",
        "# Encode categorical features\n",
        "categorical_cols = ['gender', 'region', 'highest_education', 'imd_band', 'age_band', 'disability']\n",
        "label_encoders = {col: LabelEncoder() for col in categorical_cols}\n",
        "\n",
        "for col in categorical_cols:\n",
        "  student_data[col] = student_data[col].astype(str)\n",
        "  student_data[col] = label_encoders[col].fit_transform(student_data[col])\n"
      ]
    },
    {
      "cell_type": "markdown",
      "metadata": {
        "id": "Eo0j9MUw6Hns"
      },
      "source": [
        "Normalize Scores"
      ]
    },
    {
      "cell_type": "code",
      "execution_count": null,
      "metadata": {
        "colab": {
          "background_save": true
        },
        "id": "Viz2yLCY0O5W"
      },
      "outputs": [],
      "source": [
        "# Fill missing scores with the mean\n",
        "student_data['score'] = student_data['score'].fillna(student_data['score'].mean())\n",
        "\n",
        "# Normalize score column\n",
        "student_data['score'] = scaler.fit_transform(student_data[['score']])\n"
      ]
    },
    {
      "cell_type": "markdown",
      "metadata": {
        "id": "MOuHX_ZYT9ST"
      },
      "source": [
        "Select final features for model training"
      ]
    },
    {
      "cell_type": "code",
      "execution_count": null,
      "metadata": {
        "colab": {
          "background_save": true
        },
        "id": "T_encBe2Tinv"
      },
      "outputs": [],
      "source": [
        "# Select final features for model training\n",
        "# features = ['score', 'normalized_date', 'course_progress', 'normalized_clicks', 'gender', 'region', 'highest_education', 'imd_band', 'age_band', 'disability']\n",
        "features = ['score', 'normalized_date', 'normalized_clicks', 'gender', 'region', 'highest_education', 'imd_band', 'age_band', 'disability'] + list(student_vle_pivot.columns)\n",
        "\n",
        "X = student_data[features]\n",
        "y = student_data['final_result']\n",
        "\n",
        "# Convert categorical course_progress into one-hot encoding\n",
        "# X = pd.get_dummies(X, columns=['course_progress'])"
      ]
    },
    {
      "cell_type": "markdown",
      "metadata": {
        "id": "Tw0e9LKb6YIv"
      },
      "source": [
        "Create Time-Series Sequences\n",
        "**bold text**Extract Time-Series Features for Each Student"
      ]
    },
    {
      "cell_type": "code",
      "execution_count": null,
      "metadata": {
        "id": "FOupXpBe0S10"
      },
      "outputs": [],
      "source": [
        "sequence_length = 5  # Look at last 5 assessments\n",
        "\n",
        "X, y = [], []\n",
        "grouped = student_data.groupby('id_student')\n",
        "\n",
        "for _, group in grouped:\n",
        "    group = group.sort_values('date_submitted')\n",
        "\n",
        "    scores = group['score'].values\n",
        "    final_result = group['final_result'].iloc[-1]  # Use last known final_result\n",
        "\n",
        "    if len(scores) >= sequence_length:\n",
        "        seq = scores[-sequence_length:]  # Last 5 assessments\n",
        "        X.append(seq)\n",
        "        y.append(final_result)\n",
        "\n",
        "X = np.array(X).reshape(-1, sequence_length, 1)  # Reshape for LSTM\n",
        "y = np.array(y)\n",
        "\n",
        "print(f\"Dataset shape: X={X.shape}, y={y.shape}\")\n"
      ]
    },
    {
      "cell_type": "markdown",
      "metadata": {
        "id": "HqnBSbMk6hoM"
      },
      "source": [
        "Handle Imbalanced Data with SMOTE\n"
      ]
    },
    {
      "cell_type": "code",
      "execution_count": null,
      "metadata": {
        "colab": {
          "background_save": true
        },
        "id": "khSfBCiH-r3C"
      },
      "outputs": [],
      "source": [
        "smote = SMOTE(random_state=42)\n",
        "X_flat = X.reshape(X.shape[0], -1)\n",
        "X_resampled, y_resampled = smote.fit_resample(X_flat, y)\n",
        "X_resampled = X_resampled.reshape(-1, sequence_length, 1)\n",
        "\n",
        "print(f\"After SMOTE: X={X_resampled.shape}, y={y_resampled.shape}\")"
      ]
    },
    {
      "cell_type": "markdown",
      "metadata": {
        "id": "rZ2_mypg6vuY"
      },
      "source": [
        " Train/Test Split"
      ]
    },
    {
      "cell_type": "code",
      "execution_count": null,
      "metadata": {
        "id": "_E0CF-sK6xWH"
      },
      "outputs": [],
      "source": [
        "X_train, X_test, y_train, y_test = train_test_split(X_resampled, y_resampled, test_size=0.2, random_state=42, stratify=y_resampled)\n"
      ]
    },
    {
      "cell_type": "code",
      "execution_count": null,
      "metadata": {
        "colab": {
          "base_uri": "https://localhost:8080/",
          "height": 391
        },
        "id": "_dMVgz77uYbP",
        "outputId": "d85fff47-f8f0-4ada-b47d-196d74394957"
      },
      "outputs": [
        {
          "name": "stdout",
          "output_type": "stream",
          "text": [
            "\n",
            " Training Model for 20% Course Progress...\n",
            "\n"
          ]
        },
        {
          "ename": "TypeError",
          "evalue": "argument of type 'int' is not iterable",
          "output_type": "error",
          "traceback": [
            "\u001b[0;31m---------------------------------------------------------------------------\u001b[0m",
            "\u001b[0;31mTypeError\u001b[0m                                 Traceback (most recent call last)",
            "\u001b[0;32m<ipython-input-24-2c8d01db79c3>\u001b[0m in \u001b[0;36m<cell line: 0>\u001b[0;34m()\u001b[0m\n\u001b[1;32m     34\u001b[0m \u001b[0mmodels_by_stage\u001b[0m \u001b[0;34m=\u001b[0m \u001b[0;34m{\u001b[0m\u001b[0;34m}\u001b[0m\u001b[0;34m\u001b[0m\u001b[0;34m\u001b[0m\u001b[0m\n\u001b[1;32m     35\u001b[0m \u001b[0;32mfor\u001b[0m \u001b[0mstage\u001b[0m \u001b[0;32min\u001b[0m \u001b[0;34m[\u001b[0m\u001b[0;34m'20%'\u001b[0m\u001b[0;34m,\u001b[0m \u001b[0;34m'40%'\u001b[0m\u001b[0;34m,\u001b[0m \u001b[0;34m'60%'\u001b[0m\u001b[0;34m,\u001b[0m \u001b[0;34m'80%'\u001b[0m\u001b[0;34m,\u001b[0m \u001b[0;34m'100%'\u001b[0m\u001b[0;34m]\u001b[0m\u001b[0;34m:\u001b[0m\u001b[0;34m\u001b[0m\u001b[0;34m\u001b[0m\u001b[0m\n\u001b[0;32m---> 36\u001b[0;31m     \u001b[0mmodels_by_stage\u001b[0m\u001b[0;34m[\u001b[0m\u001b[0mstage\u001b[0m\u001b[0;34m]\u001b[0m \u001b[0;34m=\u001b[0m \u001b[0mtrain_early_risk_model\u001b[0m\u001b[0;34m(\u001b[0m\u001b[0mstage\u001b[0m\u001b[0;34m)\u001b[0m\u001b[0;34m\u001b[0m\u001b[0;34m\u001b[0m\u001b[0m\n\u001b[0m",
            "\u001b[0;32m<ipython-input-24-2c8d01db79c3>\u001b[0m in \u001b[0;36mtrain_early_risk_model\u001b[0;34m(stage)\u001b[0m\n\u001b[1;32m      4\u001b[0m \u001b[0;34m\u001b[0m\u001b[0m\n\u001b[1;32m      5\u001b[0m     \u001b[0;31m# Select only students at this stage\u001b[0m\u001b[0;34m\u001b[0m\u001b[0;34m\u001b[0m\u001b[0m\n\u001b[0;32m----> 6\u001b[0;31m     \u001b[0mX_stage\u001b[0m \u001b[0;34m=\u001b[0m \u001b[0mstudent_data\u001b[0m\u001b[0;34m[\u001b[0m\u001b[0mstudent_data\u001b[0m\u001b[0;34m[\u001b[0m\u001b[0;34mf'course_progress_{stage}'\u001b[0m\u001b[0;34m]\u001b[0m \u001b[0;34m==\u001b[0m \u001b[0;36m1\u001b[0m\u001b[0;34m]\u001b[0m\u001b[0;34m.\u001b[0m\u001b[0mdrop\u001b[0m\u001b[0;34m(\u001b[0m\u001b[0mcolumns\u001b[0m\u001b[0;34m=\u001b[0m\u001b[0;34m[\u001b[0m\u001b[0mcol\u001b[0m \u001b[0;32mfor\u001b[0m \u001b[0mcol\u001b[0m \u001b[0;32min\u001b[0m \u001b[0mstudent_data\u001b[0m\u001b[0;34m.\u001b[0m\u001b[0mcolumns\u001b[0m \u001b[0;32mif\u001b[0m \u001b[0;34m'course_progress_'\u001b[0m \u001b[0;32min\u001b[0m \u001b[0mcol\u001b[0m\u001b[0;34m]\u001b[0m\u001b[0;34m)\u001b[0m\u001b[0;34m\u001b[0m\u001b[0;34m\u001b[0m\u001b[0m\n\u001b[0m\u001b[1;32m      7\u001b[0m     \u001b[0my_stage\u001b[0m \u001b[0;34m=\u001b[0m \u001b[0mX_stage\u001b[0m\u001b[0;34m[\u001b[0m\u001b[0;34m'final_result'\u001b[0m\u001b[0;34m]\u001b[0m\u001b[0;34m\u001b[0m\u001b[0;34m\u001b[0m\u001b[0m\n\u001b[1;32m      8\u001b[0m     \u001b[0mX_stage\u001b[0m \u001b[0;34m=\u001b[0m \u001b[0mX_stage\u001b[0m\u001b[0;34m.\u001b[0m\u001b[0mdrop\u001b[0m\u001b[0;34m(\u001b[0m\u001b[0mcolumns\u001b[0m\u001b[0;34m=\u001b[0m\u001b[0;34m[\u001b[0m\u001b[0;34m'final_result'\u001b[0m\u001b[0;34m]\u001b[0m\u001b[0;34m)\u001b[0m\u001b[0;34m\u001b[0m\u001b[0;34m\u001b[0m\u001b[0m\n",
            "\u001b[0;32m<ipython-input-24-2c8d01db79c3>\u001b[0m in \u001b[0;36m<listcomp>\u001b[0;34m(.0)\u001b[0m\n\u001b[1;32m      4\u001b[0m \u001b[0;34m\u001b[0m\u001b[0m\n\u001b[1;32m      5\u001b[0m     \u001b[0;31m# Select only students at this stage\u001b[0m\u001b[0;34m\u001b[0m\u001b[0;34m\u001b[0m\u001b[0m\n\u001b[0;32m----> 6\u001b[0;31m     \u001b[0mX_stage\u001b[0m \u001b[0;34m=\u001b[0m \u001b[0mstudent_data\u001b[0m\u001b[0;34m[\u001b[0m\u001b[0mstudent_data\u001b[0m\u001b[0;34m[\u001b[0m\u001b[0;34mf'course_progress_{stage}'\u001b[0m\u001b[0;34m]\u001b[0m \u001b[0;34m==\u001b[0m \u001b[0;36m1\u001b[0m\u001b[0;34m]\u001b[0m\u001b[0;34m.\u001b[0m\u001b[0mdrop\u001b[0m\u001b[0;34m(\u001b[0m\u001b[0mcolumns\u001b[0m\u001b[0;34m=\u001b[0m\u001b[0;34m[\u001b[0m\u001b[0mcol\u001b[0m \u001b[0;32mfor\u001b[0m \u001b[0mcol\u001b[0m \u001b[0;32min\u001b[0m \u001b[0mstudent_data\u001b[0m\u001b[0;34m.\u001b[0m\u001b[0mcolumns\u001b[0m \u001b[0;32mif\u001b[0m \u001b[0;34m'course_progress_'\u001b[0m \u001b[0;32min\u001b[0m \u001b[0mcol\u001b[0m\u001b[0;34m]\u001b[0m\u001b[0;34m)\u001b[0m\u001b[0;34m\u001b[0m\u001b[0;34m\u001b[0m\u001b[0m\n\u001b[0m\u001b[1;32m      7\u001b[0m     \u001b[0my_stage\u001b[0m \u001b[0;34m=\u001b[0m \u001b[0mX_stage\u001b[0m\u001b[0;34m[\u001b[0m\u001b[0;34m'final_result'\u001b[0m\u001b[0;34m]\u001b[0m\u001b[0;34m\u001b[0m\u001b[0;34m\u001b[0m\u001b[0m\n\u001b[1;32m      8\u001b[0m     \u001b[0mX_stage\u001b[0m \u001b[0;34m=\u001b[0m \u001b[0mX_stage\u001b[0m\u001b[0;34m.\u001b[0m\u001b[0mdrop\u001b[0m\u001b[0;34m(\u001b[0m\u001b[0mcolumns\u001b[0m\u001b[0;34m=\u001b[0m\u001b[0;34m[\u001b[0m\u001b[0;34m'final_result'\u001b[0m\u001b[0;34m]\u001b[0m\u001b[0;34m)\u001b[0m\u001b[0;34m\u001b[0m\u001b[0;34m\u001b[0m\u001b[0m\n",
            "\u001b[0;31mTypeError\u001b[0m: argument of type 'int' is not iterable"
          ]
        }
      ],
      "source": [
        "# # Define function to train a model at each course progress stage\n",
        "# def train_early_risk_model(stage):\n",
        "#     print(f\"\\n Training Model for {stage} Course Progress...\\n\")\n",
        "\n",
        "#     # Select only students at this stage\n",
        "#     X_stage = student_data[student_data[f'course_progress_{stage}'] == 1].drop(columns=[col for col in student_data.columns if 'course_progress_' in col])\n",
        "#     y_stage = X_stage['final_result']\n",
        "#     X_stage = X_stage.drop(columns=['final_result'])\n",
        "\n",
        "#     # Train/Test Split\n",
        "#     X_train, X_test, y_train, y_test = train_test_split(X_stage, y_stage, test_size=0.2, random_state=42, stratify=y_stage)\n",
        "\n",
        "#     # Build LSTM Model\n",
        "#     input_layer = Input(shape=(X_train.shape[1],))  # No sequence now, since we flatten for each stage\n",
        "\n",
        "#     x = Dense(64, activation='relu')(input_layer)\n",
        "#     x = Dropout(0.2)(x)\n",
        "#     x = Dense(32, activation='relu')(x)\n",
        "#     output_layer = Dense(4, activation='softmax')(x)  # Classification\n",
        "\n",
        "#     model = Model(inputs=input_layer, outputs=output_layer)\n",
        "#     model.compile(optimizer='adam', loss='sparse_categorical_crossentropy', metrics=['accuracy'])\n",
        "\n",
        "#     # Train Model\n",
        "#     model.fit(X_train, y_train, epochs=20, batch_size=64, validation_split=0.1)\n",
        "\n",
        "#     # Evaluate Model\n",
        "#     test_loss, test_acc = model.evaluate(X_test, y_test)\n",
        "#     print(f\" {stage} Progress Model Accuracy: {test_acc:.4f}\\n\")\n",
        "\n",
        "#     return model\n",
        "\n",
        "# # Train separate models for each course stage\n",
        "# models_by_stage = {}\n",
        "# for stage in ['20%', '40%', '60%', '80%', '100%']:\n",
        "#     models_by_stage[stage] = train_early_risk_model(stage)"
      ]
    },
    {
      "cell_type": "code",
      "execution_count": null,
      "metadata": {
        "colab": {
          "base_uri": "https://localhost:8080/"
        },
        "id": "vU7n73yirq9m",
        "outputId": "fa01fb7b-6c5f-4917-90f2-897ea6628b4d"
      },
      "outputs": [
        {
          "name": "stdout",
          "output_type": "stream",
          "text": [
            "        id_assessment  id_student  date_submitted  is_banked  score  \\\n",
            "0                1758        6516              17          0   0.60   \n",
            "1                1759        6516              51          0   0.48   \n",
            "2                1760        6516             116          0   0.63   \n",
            "3                1761        6516             164          0   0.61   \n",
            "4                1762        6516             210          0   0.77   \n",
            "...               ...         ...             ...        ...    ...   \n",
            "203539          15020     2698588              18          0   1.00   \n",
            "203540          15021     2698588              53          0   0.85   \n",
            "203541          15022     2698588             109          0   0.87   \n",
            "203542          15023     2698588             152          0   0.95   \n",
            "203543          15024     2698588             202          0   0.95   \n",
            "\n",
            "       code_module code_presentation  gender  region  highest_education  ...  \\\n",
            "0              AAA             2014J       1       9                  1  ...   \n",
            "1              AAA             2014J       1       9                  1  ...   \n",
            "2              AAA             2014J       1       9                  1  ...   \n",
            "3              AAA             2014J       1       9                  1  ...   \n",
            "4              AAA             2014J       1       9                  1  ...   \n",
            "...            ...               ...     ...     ...                ...  ...   \n",
            "203539         BBB             2014J       0       4                  1  ...   \n",
            "203540         BBB             2014J       0       4                  1  ...   \n",
            "203541         BBB             2014J       0       4                  1  ...   \n",
            "203542         BBB             2014J       0       4                  1  ...   \n",
            "203543         BBB             2014J       0       4                  1  ...   \n",
            "\n",
            "              31        32        33        34        35        36   37  \\\n",
            "0       0.016071  0.060932  0.040954  0.021509  0.000000  0.000000  0.0   \n",
            "1       0.016071  0.060932  0.040954  0.021509  0.000000  0.000000  0.0   \n",
            "2       0.016071  0.060932  0.040954  0.021509  0.000000  0.000000  0.0   \n",
            "3       0.016071  0.060932  0.040954  0.021509  0.000000  0.000000  0.0   \n",
            "4       0.016071  0.060932  0.040954  0.021509  0.000000  0.000000  0.0   \n",
            "...          ...       ...       ...       ...       ...       ...  ...   \n",
            "203539  0.005060  0.006656  0.076205  0.003852  0.005344  0.004854  0.0   \n",
            "203540  0.005060  0.006656  0.076205  0.003852  0.005344  0.004854  0.0   \n",
            "203541  0.005060  0.006656  0.076205  0.003852  0.005344  0.004854  0.0   \n",
            "203542  0.005060  0.006656  0.076205  0.003852  0.005344  0.004854  0.0   \n",
            "203543  0.005060  0.006656  0.076205  0.003852  0.005344  0.004854  0.0   \n",
            "\n",
            "              38  sum_click  normalized_clicks  \n",
            "0       0.009756     2791.0           0.115585  \n",
            "1       0.009756     2791.0           0.115585  \n",
            "2       0.009756     2791.0           0.115585  \n",
            "3       0.009756     2791.0           0.115585  \n",
            "4       0.009756     2791.0           0.115585  \n",
            "...          ...        ...                ...  \n",
            "203539  0.000000      605.0           0.025023  \n",
            "203540  0.000000      605.0           0.025023  \n",
            "203541  0.000000      605.0           0.025023  \n",
            "203542  0.000000      605.0           0.025023  \n",
            "203543  0.000000      605.0           0.025023  \n",
            "\n",
            "[100636 rows x 70 columns]\n"
          ]
        }
      ],
      "source": [
        "print(grouped.head())"
      ]
    },
    {
      "cell_type": "markdown",
      "metadata": {
        "id": "vfshbTc360Wp"
      },
      "source": [
        "Build the Deep Learning Model"
      ]
    },
    {
      "cell_type": "code",
      "execution_count": null,
      "metadata": {
        "colab": {
          "base_uri": "https://localhost:8080/",
          "height": 609
        },
        "id": "y3Gommu27Nuc",
        "outputId": "cde1665f-fa02-4901-fc75-6dee900431a7"
      },
      "outputs": [
        {
          "data": {
            "text/html": [
              "<pre style=\"white-space:pre;overflow-x:auto;line-height:normal;font-family:Menlo,'DejaVu Sans Mono',consolas,'Courier New',monospace\"><span style=\"font-weight: bold\">Model: \"functional\"</span>\n",
              "</pre>\n"
            ],
            "text/plain": [
              "\u001b[1mModel: \"functional\"\u001b[0m\n"
            ]
          },
          "metadata": {},
          "output_type": "display_data"
        },
        {
          "data": {
            "text/html": [
              "<pre style=\"white-space:pre;overflow-x:auto;line-height:normal;font-family:Menlo,'DejaVu Sans Mono',consolas,'Courier New',monospace\">┏━━━━━━━━━━━━━━━━━━━━━━━━━━━┳━━━━━━━━━━━━━━━━━━━━━━━━┳━━━━━━━━━━━━━━━━┳━━━━━━━━━━━━━━━━━━━━━━━━┓\n",
              "┃<span style=\"font-weight: bold\"> Layer (type)              </span>┃<span style=\"font-weight: bold\"> Output Shape           </span>┃<span style=\"font-weight: bold\">        Param # </span>┃<span style=\"font-weight: bold\"> Connected to           </span>┃\n",
              "┡━━━━━━━━━━━━━━━━━━━━━━━━━━━╇━━━━━━━━━━━━━━━━━━━━━━━━╇━━━━━━━━━━━━━━━━╇━━━━━━━━━━━━━━━━━━━━━━━━┩\n",
              "│ input_layer (<span style=\"color: #0087ff; text-decoration-color: #0087ff\">InputLayer</span>)  │ (<span style=\"color: #00d7ff; text-decoration-color: #00d7ff\">None</span>, <span style=\"color: #00af00; text-decoration-color: #00af00\">5</span>, <span style=\"color: #00af00; text-decoration-color: #00af00\">1</span>)           │              <span style=\"color: #00af00; text-decoration-color: #00af00\">0</span> │ -                      │\n",
              "├───────────────────────────┼────────────────────────┼────────────────┼────────────────────────┤\n",
              "│ lstm (<span style=\"color: #0087ff; text-decoration-color: #0087ff\">LSTM</span>)               │ (<span style=\"color: #00d7ff; text-decoration-color: #00d7ff\">None</span>, <span style=\"color: #00af00; text-decoration-color: #00af00\">5</span>, <span style=\"color: #00af00; text-decoration-color: #00af00\">64</span>)          │         <span style=\"color: #00af00; text-decoration-color: #00af00\">16,896</span> │ input_layer[<span style=\"color: #00af00; text-decoration-color: #00af00\">0</span>][<span style=\"color: #00af00; text-decoration-color: #00af00\">0</span>]      │\n",
              "├───────────────────────────┼────────────────────────┼────────────────┼────────────────────────┤\n",
              "│ dropout (<span style=\"color: #0087ff; text-decoration-color: #0087ff\">Dropout</span>)         │ (<span style=\"color: #00d7ff; text-decoration-color: #00d7ff\">None</span>, <span style=\"color: #00af00; text-decoration-color: #00af00\">5</span>, <span style=\"color: #00af00; text-decoration-color: #00af00\">64</span>)          │              <span style=\"color: #00af00; text-decoration-color: #00af00\">0</span> │ lstm[<span style=\"color: #00af00; text-decoration-color: #00af00\">0</span>][<span style=\"color: #00af00; text-decoration-color: #00af00\">0</span>]             │\n",
              "├───────────────────────────┼────────────────────────┼────────────────┼────────────────────────┤\n",
              "│ lstm_1 (<span style=\"color: #0087ff; text-decoration-color: #0087ff\">LSTM</span>)             │ (<span style=\"color: #00d7ff; text-decoration-color: #00d7ff\">None</span>, <span style=\"color: #00af00; text-decoration-color: #00af00\">5</span>, <span style=\"color: #00af00; text-decoration-color: #00af00\">64</span>)          │         <span style=\"color: #00af00; text-decoration-color: #00af00\">33,024</span> │ dropout[<span style=\"color: #00af00; text-decoration-color: #00af00\">0</span>][<span style=\"color: #00af00; text-decoration-color: #00af00\">0</span>]          │\n",
              "├───────────────────────────┼────────────────────────┼────────────────┼────────────────────────┤\n",
              "│ dropout_1 (<span style=\"color: #0087ff; text-decoration-color: #0087ff\">Dropout</span>)       │ (<span style=\"color: #00d7ff; text-decoration-color: #00d7ff\">None</span>, <span style=\"color: #00af00; text-decoration-color: #00af00\">5</span>, <span style=\"color: #00af00; text-decoration-color: #00af00\">64</span>)          │              <span style=\"color: #00af00; text-decoration-color: #00af00\">0</span> │ lstm_1[<span style=\"color: #00af00; text-decoration-color: #00af00\">0</span>][<span style=\"color: #00af00; text-decoration-color: #00af00\">0</span>]           │\n",
              "├───────────────────────────┼────────────────────────┼────────────────┼────────────────────────┤\n",
              "│ lstm_2 (<span style=\"color: #0087ff; text-decoration-color: #0087ff\">LSTM</span>)             │ (<span style=\"color: #00d7ff; text-decoration-color: #00d7ff\">None</span>, <span style=\"color: #00af00; text-decoration-color: #00af00\">5</span>, <span style=\"color: #00af00; text-decoration-color: #00af00\">64</span>)          │         <span style=\"color: #00af00; text-decoration-color: #00af00\">33,024</span> │ dropout_1[<span style=\"color: #00af00; text-decoration-color: #00af00\">0</span>][<span style=\"color: #00af00; text-decoration-color: #00af00\">0</span>]        │\n",
              "├───────────────────────────┼────────────────────────┼────────────────┼────────────────────────┤\n",
              "│ multi_head_attention      │ (<span style=\"color: #00d7ff; text-decoration-color: #00d7ff\">None</span>, <span style=\"color: #00af00; text-decoration-color: #00af00\">5</span>, <span style=\"color: #00af00; text-decoration-color: #00af00\">64</span>)          │         <span style=\"color: #00af00; text-decoration-color: #00af00\">33,216</span> │ lstm_2[<span style=\"color: #00af00; text-decoration-color: #00af00\">0</span>][<span style=\"color: #00af00; text-decoration-color: #00af00\">0</span>],          │\n",
              "│ (<span style=\"color: #0087ff; text-decoration-color: #0087ff\">MultiHeadAttention</span>)      │                        │                │ lstm_2[<span style=\"color: #00af00; text-decoration-color: #00af00\">0</span>][<span style=\"color: #00af00; text-decoration-color: #00af00\">0</span>],          │\n",
              "│                           │                        │                │ lstm_2[<span style=\"color: #00af00; text-decoration-color: #00af00\">0</span>][<span style=\"color: #00af00; text-decoration-color: #00af00\">0</span>]           │\n",
              "├───────────────────────────┼────────────────────────┼────────────────┼────────────────────────┤\n",
              "│ add (<span style=\"color: #0087ff; text-decoration-color: #0087ff\">Add</span>)                 │ (<span style=\"color: #00d7ff; text-decoration-color: #00d7ff\">None</span>, <span style=\"color: #00af00; text-decoration-color: #00af00\">5</span>, <span style=\"color: #00af00; text-decoration-color: #00af00\">64</span>)          │              <span style=\"color: #00af00; text-decoration-color: #00af00\">0</span> │ multi_head_attention[<span style=\"color: #00af00; text-decoration-color: #00af00\">…</span> │\n",
              "│                           │                        │                │ lstm_2[<span style=\"color: #00af00; text-decoration-color: #00af00\">0</span>][<span style=\"color: #00af00; text-decoration-color: #00af00\">0</span>]           │\n",
              "├───────────────────────────┼────────────────────────┼────────────────┼────────────────────────┤\n",
              "│ layer_normalization       │ (<span style=\"color: #00d7ff; text-decoration-color: #00d7ff\">None</span>, <span style=\"color: #00af00; text-decoration-color: #00af00\">5</span>, <span style=\"color: #00af00; text-decoration-color: #00af00\">64</span>)          │            <span style=\"color: #00af00; text-decoration-color: #00af00\">128</span> │ add[<span style=\"color: #00af00; text-decoration-color: #00af00\">0</span>][<span style=\"color: #00af00; text-decoration-color: #00af00\">0</span>]              │\n",
              "│ (<span style=\"color: #0087ff; text-decoration-color: #0087ff\">LayerNormalization</span>)      │                        │                │                        │\n",
              "├───────────────────────────┼────────────────────────┼────────────────┼────────────────────────┤\n",
              "│ flatten (<span style=\"color: #0087ff; text-decoration-color: #0087ff\">Flatten</span>)         │ (<span style=\"color: #00d7ff; text-decoration-color: #00d7ff\">None</span>, <span style=\"color: #00af00; text-decoration-color: #00af00\">320</span>)            │              <span style=\"color: #00af00; text-decoration-color: #00af00\">0</span> │ layer_normalization[<span style=\"color: #00af00; text-decoration-color: #00af00\">0</span>… │\n",
              "├───────────────────────────┼────────────────────────┼────────────────┼────────────────────────┤\n",
              "│ dense (<span style=\"color: #0087ff; text-decoration-color: #0087ff\">Dense</span>)             │ (<span style=\"color: #00d7ff; text-decoration-color: #00d7ff\">None</span>, <span style=\"color: #00af00; text-decoration-color: #00af00\">64</span>)             │         <span style=\"color: #00af00; text-decoration-color: #00af00\">20,544</span> │ flatten[<span style=\"color: #00af00; text-decoration-color: #00af00\">0</span>][<span style=\"color: #00af00; text-decoration-color: #00af00\">0</span>]          │\n",
              "├───────────────────────────┼────────────────────────┼────────────────┼────────────────────────┤\n",
              "│ dense_1 (<span style=\"color: #0087ff; text-decoration-color: #0087ff\">Dense</span>)           │ (<span style=\"color: #00d7ff; text-decoration-color: #00d7ff\">None</span>, <span style=\"color: #00af00; text-decoration-color: #00af00\">32</span>)             │          <span style=\"color: #00af00; text-decoration-color: #00af00\">2,080</span> │ dense[<span style=\"color: #00af00; text-decoration-color: #00af00\">0</span>][<span style=\"color: #00af00; text-decoration-color: #00af00\">0</span>]            │\n",
              "├───────────────────────────┼────────────────────────┼────────────────┼────────────────────────┤\n",
              "│ dense_2 (<span style=\"color: #0087ff; text-decoration-color: #0087ff\">Dense</span>)           │ (<span style=\"color: #00d7ff; text-decoration-color: #00d7ff\">None</span>, <span style=\"color: #00af00; text-decoration-color: #00af00\">4</span>)              │            <span style=\"color: #00af00; text-decoration-color: #00af00\">132</span> │ dense_1[<span style=\"color: #00af00; text-decoration-color: #00af00\">0</span>][<span style=\"color: #00af00; text-decoration-color: #00af00\">0</span>]          │\n",
              "└───────────────────────────┴────────────────────────┴────────────────┴────────────────────────┘\n",
              "</pre>\n"
            ],
            "text/plain": [
              "┏━━━━━━━━━━━━━━━━━━━━━━━━━━━┳━━━━━━━━━━━━━━━━━━━━━━━━┳━━━━━━━━━━━━━━━━┳━━━━━━━━━━━━━━━━━━━━━━━━┓\n",
              "┃\u001b[1m \u001b[0m\u001b[1mLayer (type)             \u001b[0m\u001b[1m \u001b[0m┃\u001b[1m \u001b[0m\u001b[1mOutput Shape          \u001b[0m\u001b[1m \u001b[0m┃\u001b[1m \u001b[0m\u001b[1m       Param #\u001b[0m\u001b[1m \u001b[0m┃\u001b[1m \u001b[0m\u001b[1mConnected to          \u001b[0m\u001b[1m \u001b[0m┃\n",
              "┡━━━━━━━━━━━━━━━━━━━━━━━━━━━╇━━━━━━━━━━━━━━━━━━━━━━━━╇━━━━━━━━━━━━━━━━╇━━━━━━━━━━━━━━━━━━━━━━━━┩\n",
              "│ input_layer (\u001b[38;5;33mInputLayer\u001b[0m)  │ (\u001b[38;5;45mNone\u001b[0m, \u001b[38;5;34m5\u001b[0m, \u001b[38;5;34m1\u001b[0m)           │              \u001b[38;5;34m0\u001b[0m │ -                      │\n",
              "├───────────────────────────┼────────────────────────┼────────────────┼────────────────────────┤\n",
              "│ lstm (\u001b[38;5;33mLSTM\u001b[0m)               │ (\u001b[38;5;45mNone\u001b[0m, \u001b[38;5;34m5\u001b[0m, \u001b[38;5;34m64\u001b[0m)          │         \u001b[38;5;34m16,896\u001b[0m │ input_layer[\u001b[38;5;34m0\u001b[0m][\u001b[38;5;34m0\u001b[0m]      │\n",
              "├───────────────────────────┼────────────────────────┼────────────────┼────────────────────────┤\n",
              "│ dropout (\u001b[38;5;33mDropout\u001b[0m)         │ (\u001b[38;5;45mNone\u001b[0m, \u001b[38;5;34m5\u001b[0m, \u001b[38;5;34m64\u001b[0m)          │              \u001b[38;5;34m0\u001b[0m │ lstm[\u001b[38;5;34m0\u001b[0m][\u001b[38;5;34m0\u001b[0m]             │\n",
              "├───────────────────────────┼────────────────────────┼────────────────┼────────────────────────┤\n",
              "│ lstm_1 (\u001b[38;5;33mLSTM\u001b[0m)             │ (\u001b[38;5;45mNone\u001b[0m, \u001b[38;5;34m5\u001b[0m, \u001b[38;5;34m64\u001b[0m)          │         \u001b[38;5;34m33,024\u001b[0m │ dropout[\u001b[38;5;34m0\u001b[0m][\u001b[38;5;34m0\u001b[0m]          │\n",
              "├───────────────────────────┼────────────────────────┼────────────────┼────────────────────────┤\n",
              "│ dropout_1 (\u001b[38;5;33mDropout\u001b[0m)       │ (\u001b[38;5;45mNone\u001b[0m, \u001b[38;5;34m5\u001b[0m, \u001b[38;5;34m64\u001b[0m)          │              \u001b[38;5;34m0\u001b[0m │ lstm_1[\u001b[38;5;34m0\u001b[0m][\u001b[38;5;34m0\u001b[0m]           │\n",
              "├───────────────────────────┼────────────────────────┼────────────────┼────────────────────────┤\n",
              "│ lstm_2 (\u001b[38;5;33mLSTM\u001b[0m)             │ (\u001b[38;5;45mNone\u001b[0m, \u001b[38;5;34m5\u001b[0m, \u001b[38;5;34m64\u001b[0m)          │         \u001b[38;5;34m33,024\u001b[0m │ dropout_1[\u001b[38;5;34m0\u001b[0m][\u001b[38;5;34m0\u001b[0m]        │\n",
              "├───────────────────────────┼────────────────────────┼────────────────┼────────────────────────┤\n",
              "│ multi_head_attention      │ (\u001b[38;5;45mNone\u001b[0m, \u001b[38;5;34m5\u001b[0m, \u001b[38;5;34m64\u001b[0m)          │         \u001b[38;5;34m33,216\u001b[0m │ lstm_2[\u001b[38;5;34m0\u001b[0m][\u001b[38;5;34m0\u001b[0m],          │\n",
              "│ (\u001b[38;5;33mMultiHeadAttention\u001b[0m)      │                        │                │ lstm_2[\u001b[38;5;34m0\u001b[0m][\u001b[38;5;34m0\u001b[0m],          │\n",
              "│                           │                        │                │ lstm_2[\u001b[38;5;34m0\u001b[0m][\u001b[38;5;34m0\u001b[0m]           │\n",
              "├───────────────────────────┼────────────────────────┼────────────────┼────────────────────────┤\n",
              "│ add (\u001b[38;5;33mAdd\u001b[0m)                 │ (\u001b[38;5;45mNone\u001b[0m, \u001b[38;5;34m5\u001b[0m, \u001b[38;5;34m64\u001b[0m)          │              \u001b[38;5;34m0\u001b[0m │ multi_head_attention[\u001b[38;5;34m…\u001b[0m │\n",
              "│                           │                        │                │ lstm_2[\u001b[38;5;34m0\u001b[0m][\u001b[38;5;34m0\u001b[0m]           │\n",
              "├───────────────────────────┼────────────────────────┼────────────────┼────────────────────────┤\n",
              "│ layer_normalization       │ (\u001b[38;5;45mNone\u001b[0m, \u001b[38;5;34m5\u001b[0m, \u001b[38;5;34m64\u001b[0m)          │            \u001b[38;5;34m128\u001b[0m │ add[\u001b[38;5;34m0\u001b[0m][\u001b[38;5;34m0\u001b[0m]              │\n",
              "│ (\u001b[38;5;33mLayerNormalization\u001b[0m)      │                        │                │                        │\n",
              "├───────────────────────────┼────────────────────────┼────────────────┼────────────────────────┤\n",
              "│ flatten (\u001b[38;5;33mFlatten\u001b[0m)         │ (\u001b[38;5;45mNone\u001b[0m, \u001b[38;5;34m320\u001b[0m)            │              \u001b[38;5;34m0\u001b[0m │ layer_normalization[\u001b[38;5;34m0\u001b[0m… │\n",
              "├───────────────────────────┼────────────────────────┼────────────────┼────────────────────────┤\n",
              "│ dense (\u001b[38;5;33mDense\u001b[0m)             │ (\u001b[38;5;45mNone\u001b[0m, \u001b[38;5;34m64\u001b[0m)             │         \u001b[38;5;34m20,544\u001b[0m │ flatten[\u001b[38;5;34m0\u001b[0m][\u001b[38;5;34m0\u001b[0m]          │\n",
              "├───────────────────────────┼────────────────────────┼────────────────┼────────────────────────┤\n",
              "│ dense_1 (\u001b[38;5;33mDense\u001b[0m)           │ (\u001b[38;5;45mNone\u001b[0m, \u001b[38;5;34m32\u001b[0m)             │          \u001b[38;5;34m2,080\u001b[0m │ dense[\u001b[38;5;34m0\u001b[0m][\u001b[38;5;34m0\u001b[0m]            │\n",
              "├───────────────────────────┼────────────────────────┼────────────────┼────────────────────────┤\n",
              "│ dense_2 (\u001b[38;5;33mDense\u001b[0m)           │ (\u001b[38;5;45mNone\u001b[0m, \u001b[38;5;34m4\u001b[0m)              │            \u001b[38;5;34m132\u001b[0m │ dense_1[\u001b[38;5;34m0\u001b[0m][\u001b[38;5;34m0\u001b[0m]          │\n",
              "└───────────────────────────┴────────────────────────┴────────────────┴────────────────────────┘\n"
            ]
          },
          "metadata": {},
          "output_type": "display_data"
        },
        {
          "data": {
            "text/html": [
              "<pre style=\"white-space:pre;overflow-x:auto;line-height:normal;font-family:Menlo,'DejaVu Sans Mono',consolas,'Courier New',monospace\"><span style=\"font-weight: bold\"> Total params: </span><span style=\"color: #00af00; text-decoration-color: #00af00\">139,044</span> (543.14 KB)\n",
              "</pre>\n"
            ],
            "text/plain": [
              "\u001b[1m Total params: \u001b[0m\u001b[38;5;34m139,044\u001b[0m (543.14 KB)\n"
            ]
          },
          "metadata": {},
          "output_type": "display_data"
        },
        {
          "data": {
            "text/html": [
              "<pre style=\"white-space:pre;overflow-x:auto;line-height:normal;font-family:Menlo,'DejaVu Sans Mono',consolas,'Courier New',monospace\"><span style=\"font-weight: bold\"> Trainable params: </span><span style=\"color: #00af00; text-decoration-color: #00af00\">139,044</span> (543.14 KB)\n",
              "</pre>\n"
            ],
            "text/plain": [
              "\u001b[1m Trainable params: \u001b[0m\u001b[38;5;34m139,044\u001b[0m (543.14 KB)\n"
            ]
          },
          "metadata": {},
          "output_type": "display_data"
        },
        {
          "data": {
            "text/html": [
              "<pre style=\"white-space:pre;overflow-x:auto;line-height:normal;font-family:Menlo,'DejaVu Sans Mono',consolas,'Courier New',monospace\"><span style=\"font-weight: bold\"> Non-trainable params: </span><span style=\"color: #00af00; text-decoration-color: #00af00\">0</span> (0.00 B)\n",
              "</pre>\n"
            ],
            "text/plain": [
              "\u001b[1m Non-trainable params: \u001b[0m\u001b[38;5;34m0\u001b[0m (0.00 B)\n"
            ]
          },
          "metadata": {},
          "output_type": "display_data"
        }
      ],
      "source": [
        "# Define Model Input\n",
        "input_layer = Input(shape=(sequence_length, 1))\n",
        "\n",
        "# 1) Multilayer LSTM\n",
        "x = LSTM(64, activation='relu', return_sequences=True)(input_layer)\n",
        "x = Dropout(0.2)(x)\n",
        "x = LSTM(64, activation='relu', return_sequences=True)(x)\n",
        "x = Dropout(0.2)(x)\n",
        "x = LSTM(64, activation='relu', return_sequences=True)(x)  # Ensure output matches for MHSA\n",
        "\n",
        "# 2) Multi-Head Self-Attention\n",
        "attn_output = MultiHeadAttention(num_heads=4, key_dim=32)(x, x, x)\n",
        "x = LayerNormalization()(attn_output+x)  # Normalize attention output\n",
        "x = Flatten()(x)  # Flatten the attention output before feeding into Dense layers\n",
        "\n",
        "# 3) ANN Layers\n",
        "x = Dense(64, activation='relu')(x)\n",
        "x = Dense(32, activation='relu')(x)\n",
        "output_layer = Dense(4, activation='softmax')(x)  # 4-class classification\n",
        "\n",
        "# Compile Model\n",
        "model = Model(inputs=input_layer, outputs=output_layer)\n",
        "model.compile(optimizer='adam', loss='sparse_categorical_crossentropy', metrics=['accuracy'])\n",
        "\n",
        "model.summary()\n"
      ]
    },
    {
      "cell_type": "markdown",
      "metadata": {
        "id": "U8i7qXoT7Ryc"
      },
      "source": [
        "Train the Model"
      ]
    },
    {
      "cell_type": "code",
      "execution_count": null,
      "metadata": {
        "colab": {
          "base_uri": "https://localhost:8080/"
        },
        "id": "vULvEeAS7TLd",
        "outputId": "e5aca8a2-74a0-411e-990b-a1afc30c0d65"
      },
      "outputs": [
        {
          "name": "stdout",
          "output_type": "stream",
          "text": [
            "Epoch 1/100\n",
            "\u001b[1m543/543\u001b[0m \u001b[32m━━━━━━━━━━━━━━━━━━━━\u001b[0m\u001b[37m\u001b[0m \u001b[1m10s\u001b[0m 19ms/step - accuracy: 0.5917 - loss: 0.9538 - val_accuracy: 0.2500 - val_loss: 1.3482\n",
            "Epoch 2/100\n",
            "\u001b[1m543/543\u001b[0m \u001b[32m━━━━━━━━━━━━━━━━━━━━\u001b[0m\u001b[37m\u001b[0m \u001b[1m10s\u001b[0m 18ms/step - accuracy: 0.5944 - loss: 0.9422 - val_accuracy: 0.2500 - val_loss: 0.9335\n",
            "Epoch 3/100\n",
            "\u001b[1m543/543\u001b[0m \u001b[32m━━━━━━━━━━━━━━━━━━━━\u001b[0m\u001b[37m\u001b[0m \u001b[1m10s\u001b[0m 18ms/step - accuracy: 0.5977 - loss: 0.9402 - val_accuracy: 0.5000 - val_loss: 0.8447\n",
            "Epoch 4/100\n",
            "\u001b[1m543/543\u001b[0m \u001b[32m━━━━━━━━━━━━━━━━━━━━\u001b[0m\u001b[37m\u001b[0m \u001b[1m10s\u001b[0m 19ms/step - accuracy: 0.5989 - loss: 0.9317 - val_accuracy: 0.5000 - val_loss: 0.9509\n",
            "Epoch 5/100\n",
            "\u001b[1m543/543\u001b[0m \u001b[32m━━━━━━━━━━━━━━━━━━━━\u001b[0m\u001b[37m\u001b[0m \u001b[1m10s\u001b[0m 19ms/step - accuracy: 0.5997 - loss: 0.9303 - val_accuracy: 0.7500 - val_loss: 0.6738\n",
            "Epoch 6/100\n",
            "\u001b[1m543/543\u001b[0m \u001b[32m━━━━━━━━━━━━━━━━━━━━\u001b[0m\u001b[37m\u001b[0m \u001b[1m10s\u001b[0m 19ms/step - accuracy: 0.6000 - loss: 0.9298 - val_accuracy: 1.0000 - val_loss: 0.6723\n",
            "Epoch 7/100\n",
            "\u001b[1m543/543\u001b[0m \u001b[32m━━━━━━━━━━━━━━━━━━━━\u001b[0m\u001b[37m\u001b[0m \u001b[1m10s\u001b[0m 19ms/step - accuracy: 0.6085 - loss: 0.9153 - val_accuracy: 0.2500 - val_loss: 0.9074\n",
            "Epoch 8/100\n",
            "\u001b[1m543/543\u001b[0m \u001b[32m━━━━━━━━━━━━━━━━━━━━\u001b[0m\u001b[37m\u001b[0m \u001b[1m10s\u001b[0m 19ms/step - accuracy: 0.6096 - loss: 0.9202 - val_accuracy: 0.2500 - val_loss: 1.0508\n",
            "Epoch 9/100\n",
            "\u001b[1m543/543\u001b[0m \u001b[32m━━━━━━━━━━━━━━━━━━━━\u001b[0m\u001b[37m\u001b[0m \u001b[1m10s\u001b[0m 18ms/step - accuracy: 0.6096 - loss: 0.9083 - val_accuracy: 0.2500 - val_loss: 0.9619\n",
            "Epoch 10/100\n",
            "\u001b[1m543/543\u001b[0m \u001b[32m━━━━━━━━━━━━━━━━━━━━\u001b[0m\u001b[37m\u001b[0m \u001b[1m10s\u001b[0m 18ms/step - accuracy: 0.6124 - loss: 0.9121 - val_accuracy: 0.2500 - val_loss: 1.1248\n",
            "Epoch 11/100\n",
            "\u001b[1m543/543\u001b[0m \u001b[32m━━━━━━━━━━━━━━━━━━━━\u001b[0m\u001b[37m\u001b[0m \u001b[1m10s\u001b[0m 18ms/step - accuracy: 0.6165 - loss: 0.9047 - val_accuracy: 0.5000 - val_loss: 0.9192\n",
            "Epoch 12/100\n",
            "\u001b[1m543/543\u001b[0m \u001b[32m━━━━━━━━━━━━━━━━━━━━\u001b[0m\u001b[37m\u001b[0m \u001b[1m10s\u001b[0m 18ms/step - accuracy: 0.6221 - loss: 0.8995 - val_accuracy: 0.2500 - val_loss: 1.0364\n",
            "Epoch 13/100\n",
            "\u001b[1m543/543\u001b[0m \u001b[32m━━━━━━━━━━━━━━━━━━━━\u001b[0m\u001b[37m\u001b[0m \u001b[1m10s\u001b[0m 18ms/step - accuracy: 0.6206 - loss: 0.8924 - val_accuracy: 0.7500 - val_loss: 0.7241\n",
            "Epoch 14/100\n",
            "\u001b[1m543/543\u001b[0m \u001b[32m━━━━━━━━━━━━━━━━━━━━\u001b[0m\u001b[37m\u001b[0m \u001b[1m10s\u001b[0m 18ms/step - accuracy: 0.6181 - loss: 0.9016 - val_accuracy: 1.0000 - val_loss: 0.4928\n",
            "Epoch 15/100\n",
            "\u001b[1m543/543\u001b[0m \u001b[32m━━━━━━━━━━━━━━━━━━━━\u001b[0m\u001b[37m\u001b[0m \u001b[1m10s\u001b[0m 18ms/step - accuracy: 0.6239 - loss: 0.8841 - val_accuracy: 0.2500 - val_loss: 0.8310\n",
            "Epoch 16/100\n",
            "\u001b[1m543/543\u001b[0m \u001b[32m━━━━━━━━━━━━━━━━━━━━\u001b[0m\u001b[37m\u001b[0m \u001b[1m10s\u001b[0m 18ms/step - accuracy: 0.6244 - loss: 0.8873 - val_accuracy: 0.5000 - val_loss: 0.7648\n",
            "Epoch 17/100\n",
            "\u001b[1m543/543\u001b[0m \u001b[32m━━━━━━━━━━━━━━━━━━━━\u001b[0m\u001b[37m\u001b[0m \u001b[1m10s\u001b[0m 18ms/step - accuracy: 0.6245 - loss: 0.8854 - val_accuracy: 0.7500 - val_loss: 0.6235\n",
            "Epoch 18/100\n",
            "\u001b[1m543/543\u001b[0m \u001b[32m━━━━━━━━━━━━━━━━━━━━\u001b[0m\u001b[37m\u001b[0m \u001b[1m10s\u001b[0m 18ms/step - accuracy: 0.6304 - loss: 0.8717 - val_accuracy: 0.7500 - val_loss: 0.5418\n",
            "Epoch 19/100\n",
            "\u001b[1m543/543\u001b[0m \u001b[32m━━━━━━━━━━━━━━━━━━━━\u001b[0m\u001b[37m\u001b[0m \u001b[1m10s\u001b[0m 18ms/step - accuracy: 0.6272 - loss: 0.8778 - val_accuracy: 0.5000 - val_loss: 0.8859\n",
            "Epoch 20/100\n",
            "\u001b[1m543/543\u001b[0m \u001b[32m━━━━━━━━━━━━━━━━━━━━\u001b[0m\u001b[37m\u001b[0m \u001b[1m10s\u001b[0m 18ms/step - accuracy: 0.6260 - loss: 0.8713 - val_accuracy: 0.5000 - val_loss: 0.7367\n",
            "Epoch 21/100\n",
            "\u001b[1m543/543\u001b[0m \u001b[32m━━━━━━━━━━━━━━━━━━━━\u001b[0m\u001b[37m\u001b[0m \u001b[1m10s\u001b[0m 18ms/step - accuracy: 0.6364 - loss: 0.8618 - val_accuracy: 0.7500 - val_loss: 0.5437\n",
            "Epoch 22/100\n",
            "\u001b[1m543/543\u001b[0m \u001b[32m━━━━━━━━━━━━━━━━━━━━\u001b[0m\u001b[37m\u001b[0m \u001b[1m10s\u001b[0m 19ms/step - accuracy: 0.6343 - loss: 0.8628 - val_accuracy: 0.2500 - val_loss: 1.1152\n",
            "Epoch 23/100\n",
            "\u001b[1m543/543\u001b[0m \u001b[32m━━━━━━━━━━━━━━━━━━━━\u001b[0m\u001b[37m\u001b[0m \u001b[1m10s\u001b[0m 19ms/step - accuracy: 0.6393 - loss: 0.8572 - val_accuracy: 0.7500 - val_loss: 0.6119\n",
            "Epoch 24/100\n",
            "\u001b[1m543/543\u001b[0m \u001b[32m━━━━━━━━━━━━━━━━━━━━\u001b[0m\u001b[37m\u001b[0m \u001b[1m10s\u001b[0m 19ms/step - accuracy: 0.6387 - loss: 0.8569 - val_accuracy: 1.0000 - val_loss: 0.6325\n",
            "Epoch 25/100\n",
            "\u001b[1m543/543\u001b[0m \u001b[32m━━━━━━━━━━━━━━━━━━━━\u001b[0m\u001b[37m\u001b[0m \u001b[1m10s\u001b[0m 18ms/step - accuracy: 0.6352 - loss: 0.8644 - val_accuracy: 0.7500 - val_loss: 0.5527\n",
            "Epoch 26/100\n",
            "\u001b[1m543/543\u001b[0m \u001b[32m━━━━━━━━━━━━━━━━━━━━\u001b[0m\u001b[37m\u001b[0m \u001b[1m10s\u001b[0m 18ms/step - accuracy: 0.6457 - loss: 0.8418 - val_accuracy: 0.5000 - val_loss: 0.6761\n",
            "Epoch 27/100\n",
            "\u001b[1m543/543\u001b[0m \u001b[32m━━━━━━━━━━━━━━━━━━━━\u001b[0m\u001b[37m\u001b[0m \u001b[1m10s\u001b[0m 18ms/step - accuracy: 0.6401 - loss: 0.8555 - val_accuracy: 0.5000 - val_loss: 0.8554\n",
            "Epoch 28/100\n",
            "\u001b[1m543/543\u001b[0m \u001b[32m━━━━━━━━━━━━━━━━━━━━\u001b[0m\u001b[37m\u001b[0m \u001b[1m10s\u001b[0m 18ms/step - accuracy: 0.6492 - loss: 0.8354 - val_accuracy: 0.5000 - val_loss: 0.6913\n",
            "Epoch 29/100\n",
            "\u001b[1m543/543\u001b[0m \u001b[32m━━━━━━━━━━━━━━━━━━━━\u001b[0m\u001b[37m\u001b[0m \u001b[1m10s\u001b[0m 18ms/step - accuracy: 0.6505 - loss: 0.8306 - val_accuracy: 0.7500 - val_loss: 0.6484\n",
            "Epoch 30/100\n",
            "\u001b[1m543/543\u001b[0m \u001b[32m━━━━━━━━━━━━━━━━━━━━\u001b[0m\u001b[37m\u001b[0m \u001b[1m10s\u001b[0m 18ms/step - accuracy: 0.6488 - loss: 0.8364 - val_accuracy: 0.5000 - val_loss: 0.8655\n",
            "Epoch 31/100\n",
            "\u001b[1m543/543\u001b[0m \u001b[32m━━━━━━━━━━━━━━━━━━━━\u001b[0m\u001b[37m\u001b[0m \u001b[1m10s\u001b[0m 18ms/step - accuracy: 0.6545 - loss: 0.8238 - val_accuracy: 0.2500 - val_loss: 0.8213\n",
            "Epoch 32/100\n",
            "\u001b[1m543/543\u001b[0m \u001b[32m━━━━━━━━━━━━━━━━━━━━\u001b[0m\u001b[37m\u001b[0m \u001b[1m10s\u001b[0m 18ms/step - accuracy: 0.6459 - loss: 0.8361 - val_accuracy: 0.7500 - val_loss: 0.4650\n",
            "Epoch 33/100\n",
            "\u001b[1m543/543\u001b[0m \u001b[32m━━━━━━━━━━━━━━━━━━━━\u001b[0m\u001b[37m\u001b[0m \u001b[1m10s\u001b[0m 19ms/step - accuracy: 0.6502 - loss: 0.8302 - val_accuracy: 0.2500 - val_loss: 0.8921\n",
            "Epoch 34/100\n",
            "\u001b[1m543/543\u001b[0m \u001b[32m━━━━━━━━━━━━━━━━━━━━\u001b[0m\u001b[37m\u001b[0m \u001b[1m10s\u001b[0m 18ms/step - accuracy: 0.6547 - loss: 0.8220 - val_accuracy: 0.7500 - val_loss: 0.5416\n",
            "Epoch 35/100\n",
            "\u001b[1m543/543\u001b[0m \u001b[32m━━━━━━━━━━━━━━━━━━━━\u001b[0m\u001b[37m\u001b[0m \u001b[1m10s\u001b[0m 18ms/step - accuracy: 0.6570 - loss: 0.8189 - val_accuracy: 0.7500 - val_loss: 0.6143\n",
            "Epoch 36/100\n",
            "\u001b[1m543/543\u001b[0m \u001b[32m━━━━━━━━━━━━━━━━━━━━\u001b[0m\u001b[37m\u001b[0m \u001b[1m10s\u001b[0m 18ms/step - accuracy: 0.6516 - loss: 0.8252 - val_accuracy: 0.7500 - val_loss: 0.5426\n",
            "Epoch 37/100\n",
            "\u001b[1m543/543\u001b[0m \u001b[32m━━━━━━━━━━━━━━━━━━━━\u001b[0m\u001b[37m\u001b[0m \u001b[1m10s\u001b[0m 19ms/step - accuracy: 0.6615 - loss: 0.8045 - val_accuracy: 0.7500 - val_loss: 0.8190\n",
            "Epoch 38/100\n",
            "\u001b[1m543/543\u001b[0m \u001b[32m━━━━━━━━━━━━━━━━━━━━\u001b[0m\u001b[37m\u001b[0m \u001b[1m10s\u001b[0m 18ms/step - accuracy: 0.6616 - loss: 0.8120 - val_accuracy: 0.7500 - val_loss: 0.6967\n",
            "Epoch 39/100\n",
            "\u001b[1m543/543\u001b[0m \u001b[32m━━━━━━━━━━━━━━━━━━━━\u001b[0m\u001b[37m\u001b[0m \u001b[1m10s\u001b[0m 18ms/step - accuracy: 0.6615 - loss: 0.8114 - val_accuracy: 0.5000 - val_loss: 0.7665\n",
            "Epoch 40/100\n",
            "\u001b[1m543/543\u001b[0m \u001b[32m━━━━━━━━━━━━━━━━━━━━\u001b[0m\u001b[37m\u001b[0m \u001b[1m10s\u001b[0m 18ms/step - accuracy: 0.6601 - loss: 0.8089 - val_accuracy: 0.7500 - val_loss: 0.5701\n",
            "Epoch 41/100\n",
            "\u001b[1m543/543\u001b[0m \u001b[32m━━━━━━━━━━━━━━━━━━━━\u001b[0m\u001b[37m\u001b[0m \u001b[1m10s\u001b[0m 18ms/step - accuracy: 0.6640 - loss: 0.7985 - val_accuracy: 1.0000 - val_loss: 0.3893\n",
            "Epoch 42/100\n",
            "\u001b[1m543/543\u001b[0m \u001b[32m━━━━━━━━━━━━━━━━━━━━\u001b[0m\u001b[37m\u001b[0m \u001b[1m10s\u001b[0m 18ms/step - accuracy: 0.6670 - loss: 0.7934 - val_accuracy: 0.7500 - val_loss: 0.5212\n",
            "Epoch 43/100\n",
            "\u001b[1m543/543\u001b[0m \u001b[32m━━━━━━━━━━━━━━━━━━━━\u001b[0m\u001b[37m\u001b[0m \u001b[1m10s\u001b[0m 18ms/step - accuracy: 0.6673 - loss: 0.7965 - val_accuracy: 1.0000 - val_loss: 0.3873\n",
            "Epoch 44/100\n",
            "\u001b[1m543/543\u001b[0m \u001b[32m━━━━━━━━━━━━━━━━━━━━\u001b[0m\u001b[37m\u001b[0m \u001b[1m10s\u001b[0m 18ms/step - accuracy: 0.6681 - loss: 0.7912 - val_accuracy: 1.0000 - val_loss: 0.3790\n",
            "Epoch 45/100\n",
            "\u001b[1m543/543\u001b[0m \u001b[32m━━━━━━━━━━━━━━━━━━━━\u001b[0m\u001b[37m\u001b[0m \u001b[1m10s\u001b[0m 18ms/step - accuracy: 0.6744 - loss: 0.7852 - val_accuracy: 0.7500 - val_loss: 0.5885\n",
            "Epoch 46/100\n",
            "\u001b[1m543/543\u001b[0m \u001b[32m━━━━━━━━━━━━━━━━━━━━\u001b[0m\u001b[37m\u001b[0m \u001b[1m10s\u001b[0m 18ms/step - accuracy: 0.6707 - loss: 0.7850 - val_accuracy: 0.7500 - val_loss: 0.7247\n",
            "Epoch 47/100\n",
            "\u001b[1m543/543\u001b[0m \u001b[32m━━━━━━━━━━━━━━━━━━━━\u001b[0m\u001b[37m\u001b[0m \u001b[1m10s\u001b[0m 18ms/step - accuracy: 0.6766 - loss: 0.7803 - val_accuracy: 0.7500 - val_loss: 0.5350\n",
            "Epoch 48/100\n",
            "\u001b[1m543/543\u001b[0m \u001b[32m━━━━━━━━━━━━━━━━━━━━\u001b[0m\u001b[37m\u001b[0m \u001b[1m10s\u001b[0m 18ms/step - accuracy: 0.6683 - loss: 0.7895 - val_accuracy: 0.5000 - val_loss: 0.6766\n",
            "Epoch 49/100\n",
            "\u001b[1m543/543\u001b[0m \u001b[32m━━━━━━━━━━━━━━━━━━━━\u001b[0m\u001b[37m\u001b[0m \u001b[1m10s\u001b[0m 18ms/step - accuracy: 0.6772 - loss: 0.7752 - val_accuracy: 0.5000 - val_loss: 0.7961\n",
            "Epoch 50/100\n",
            "\u001b[1m543/543\u001b[0m \u001b[32m━━━━━━━━━━━━━━━━━━━━\u001b[0m\u001b[37m\u001b[0m \u001b[1m10s\u001b[0m 18ms/step - accuracy: 0.6709 - loss: 0.7814 - val_accuracy: 0.7500 - val_loss: 0.8191\n",
            "Epoch 51/100\n",
            "\u001b[1m543/543\u001b[0m \u001b[32m━━━━━━━━━━━━━━━━━━━━\u001b[0m\u001b[37m\u001b[0m \u001b[1m10s\u001b[0m 19ms/step - accuracy: 0.6767 - loss: 0.7738 - val_accuracy: 0.7500 - val_loss: 0.5540\n",
            "Epoch 52/100\n",
            "\u001b[1m543/543\u001b[0m \u001b[32m━━━━━━━━━━━━━━━━━━━━\u001b[0m\u001b[37m\u001b[0m \u001b[1m10s\u001b[0m 19ms/step - accuracy: 0.6783 - loss: 0.7714 - val_accuracy: 0.7500 - val_loss: 0.5178\n",
            "Epoch 53/100\n",
            "\u001b[1m543/543\u001b[0m \u001b[32m━━━━━━━━━━━━━━━━━━━━\u001b[0m\u001b[37m\u001b[0m \u001b[1m10s\u001b[0m 18ms/step - accuracy: 0.6785 - loss: 0.7679 - val_accuracy: 0.5000 - val_loss: 0.6918\n",
            "Epoch 54/100\n",
            "\u001b[1m543/543\u001b[0m \u001b[32m━━━━━━━━━━━━━━━━━━━━\u001b[0m\u001b[37m\u001b[0m \u001b[1m10s\u001b[0m 18ms/step - accuracy: 0.6835 - loss: 0.7608 - val_accuracy: 1.0000 - val_loss: 0.4410\n",
            "Epoch 55/100\n",
            "\u001b[1m543/543\u001b[0m \u001b[32m━━━━━━━━━━━━━━━━━━━━\u001b[0m\u001b[37m\u001b[0m \u001b[1m10s\u001b[0m 18ms/step - accuracy: 0.6797 - loss: 0.7648 - val_accuracy: 0.5000 - val_loss: 0.7201\n",
            "Epoch 56/100\n",
            "\u001b[1m543/543\u001b[0m \u001b[32m━━━━━━━━━━━━━━━━━━━━\u001b[0m\u001b[37m\u001b[0m \u001b[1m10s\u001b[0m 18ms/step - accuracy: 0.6792 - loss: 0.7631 - val_accuracy: 0.5000 - val_loss: 0.7689\n",
            "Epoch 57/100\n",
            "\u001b[1m543/543\u001b[0m \u001b[32m━━━━━━━━━━━━━━━━━━━━\u001b[0m\u001b[37m\u001b[0m \u001b[1m10s\u001b[0m 18ms/step - accuracy: 0.6890 - loss: 0.7548 - val_accuracy: 1.0000 - val_loss: 0.4674\n",
            "Epoch 58/100\n",
            "\u001b[1m543/543\u001b[0m \u001b[32m━━━━━━━━━━━━━━━━━━━━\u001b[0m\u001b[37m\u001b[0m \u001b[1m10s\u001b[0m 18ms/step - accuracy: 0.6786 - loss: 0.7623 - val_accuracy: 0.7500 - val_loss: 0.6301\n",
            "Epoch 59/100\n",
            "\u001b[1m543/543\u001b[0m \u001b[32m━━━━━━━━━━━━━━━━━━━━\u001b[0m\u001b[37m\u001b[0m \u001b[1m10s\u001b[0m 18ms/step - accuracy: 0.6900 - loss: 0.7477 - val_accuracy: 0.7500 - val_loss: 0.5957\n",
            "Epoch 60/100\n",
            "\u001b[1m543/543\u001b[0m \u001b[32m━━━━━━━━━━━━━━━━━━━━\u001b[0m\u001b[37m\u001b[0m \u001b[1m10s\u001b[0m 18ms/step - accuracy: 0.6854 - loss: 0.7565 - val_accuracy: 0.7500 - val_loss: 0.4717\n",
            "Epoch 61/100\n",
            "\u001b[1m543/543\u001b[0m \u001b[32m━━━━━━━━━━━━━━━━━━━━\u001b[0m\u001b[37m\u001b[0m \u001b[1m10s\u001b[0m 18ms/step - accuracy: 0.6836 - loss: 0.7534 - val_accuracy: 0.7500 - val_loss: 0.4784\n",
            "Epoch 62/100\n",
            "\u001b[1m543/543\u001b[0m \u001b[32m━━━━━━━━━━━━━━━━━━━━\u001b[0m\u001b[37m\u001b[0m \u001b[1m10s\u001b[0m 18ms/step - accuracy: 0.6856 - loss: 0.7488 - val_accuracy: 0.7500 - val_loss: 0.6518\n",
            "Epoch 63/100\n",
            "\u001b[1m543/543\u001b[0m \u001b[32m━━━━━━━━━━━━━━━━━━━━\u001b[0m\u001b[37m\u001b[0m \u001b[1m10s\u001b[0m 18ms/step - accuracy: 0.6899 - loss: 0.7482 - val_accuracy: 1.0000 - val_loss: 0.3884\n",
            "Epoch 64/100\n",
            "\u001b[1m543/543\u001b[0m \u001b[32m━━━━━━━━━━━━━━━━━━━━\u001b[0m\u001b[37m\u001b[0m \u001b[1m10s\u001b[0m 18ms/step - accuracy: 0.6914 - loss: 0.7408 - val_accuracy: 0.7500 - val_loss: 0.6480\n",
            "Epoch 65/100\n",
            "\u001b[1m543/543\u001b[0m \u001b[32m━━━━━━━━━━━━━━━━━━━━\u001b[0m\u001b[37m\u001b[0m \u001b[1m10s\u001b[0m 18ms/step - accuracy: 0.6912 - loss: 0.7380 - val_accuracy: 1.0000 - val_loss: 0.3749\n",
            "Epoch 66/100\n",
            "\u001b[1m543/543\u001b[0m \u001b[32m━━━━━━━━━━━━━━━━━━━━\u001b[0m\u001b[37m\u001b[0m \u001b[1m10s\u001b[0m 18ms/step - accuracy: 0.6907 - loss: 0.7390 - val_accuracy: 0.7500 - val_loss: 0.6035\n",
            "Epoch 67/100\n",
            "\u001b[1m543/543\u001b[0m \u001b[32m━━━━━━━━━━━━━━━━━━━━\u001b[0m\u001b[37m\u001b[0m \u001b[1m10s\u001b[0m 18ms/step - accuracy: 0.6943 - loss: 0.7314 - val_accuracy: 1.0000 - val_loss: 0.4043\n",
            "Epoch 68/100\n",
            "\u001b[1m543/543\u001b[0m \u001b[32m━━━━━━━━━━━━━━━━━━━━\u001b[0m\u001b[37m\u001b[0m \u001b[1m10s\u001b[0m 18ms/step - accuracy: 0.6913 - loss: 0.7360 - val_accuracy: 1.0000 - val_loss: 0.3738\n",
            "Epoch 69/100\n",
            "\u001b[1m543/543\u001b[0m \u001b[32m━━━━━━━━━━━━━━━━━━━━\u001b[0m\u001b[37m\u001b[0m \u001b[1m10s\u001b[0m 18ms/step - accuracy: 0.6904 - loss: 0.7327 - val_accuracy: 1.0000 - val_loss: 0.4733\n",
            "Epoch 70/100\n",
            "\u001b[1m543/543\u001b[0m \u001b[32m━━━━━━━━━━━━━━━━━━━━\u001b[0m\u001b[37m\u001b[0m \u001b[1m10s\u001b[0m 18ms/step - accuracy: 0.6962 - loss: 0.7352 - val_accuracy: 1.0000 - val_loss: 0.4230\n",
            "Epoch 71/100\n",
            "\u001b[1m543/543\u001b[0m \u001b[32m━━━━━━━━━━━━━━━━━━━━\u001b[0m\u001b[37m\u001b[0m \u001b[1m10s\u001b[0m 18ms/step - accuracy: 0.6993 - loss: 0.7252 - val_accuracy: 1.0000 - val_loss: 0.5076\n",
            "Epoch 72/100\n",
            "\u001b[1m543/543\u001b[0m \u001b[32m━━━━━━━━━━━━━━━━━━━━\u001b[0m\u001b[37m\u001b[0m \u001b[1m10s\u001b[0m 18ms/step - accuracy: 0.6914 - loss: 0.7333 - val_accuracy: 1.0000 - val_loss: 0.4819\n",
            "Epoch 73/100\n",
            "\u001b[1m543/543\u001b[0m \u001b[32m━━━━━━━━━━━━━━━━━━━━\u001b[0m\u001b[37m\u001b[0m \u001b[1m10s\u001b[0m 18ms/step - accuracy: 0.7034 - loss: 0.7166 - val_accuracy: 0.7500 - val_loss: 0.6686\n",
            "Epoch 74/100\n",
            "\u001b[1m543/543\u001b[0m \u001b[32m━━━━━━━━━━━━━━━━━━━━\u001b[0m\u001b[37m\u001b[0m \u001b[1m10s\u001b[0m 19ms/step - accuracy: 0.6997 - loss: 0.7175 - val_accuracy: 0.5000 - val_loss: 0.5536\n",
            "Epoch 75/100\n",
            "\u001b[1m543/543\u001b[0m \u001b[32m━━━━━━━━━━━━━━━━━━━━\u001b[0m\u001b[37m\u001b[0m \u001b[1m10s\u001b[0m 18ms/step - accuracy: 0.7023 - loss: 0.7202 - val_accuracy: 0.7500 - val_loss: 0.6187\n",
            "Epoch 76/100\n",
            "\u001b[1m543/543\u001b[0m \u001b[32m━━━━━━━━━━━━━━━━━━━━\u001b[0m\u001b[37m\u001b[0m \u001b[1m10s\u001b[0m 18ms/step - accuracy: 0.7024 - loss: 0.7143 - val_accuracy: 1.0000 - val_loss: 0.3900\n",
            "Epoch 77/100\n",
            "\u001b[1m543/543\u001b[0m \u001b[32m━━━━━━━━━━━━━━━━━━━━\u001b[0m\u001b[37m\u001b[0m \u001b[1m10s\u001b[0m 18ms/step - accuracy: 0.7005 - loss: 0.7175 - val_accuracy: 0.7500 - val_loss: 0.4440\n",
            "Epoch 78/100\n",
            "\u001b[1m543/543\u001b[0m \u001b[32m━━━━━━━━━━━━━━━━━━━━\u001b[0m\u001b[37m\u001b[0m \u001b[1m10s\u001b[0m 19ms/step - accuracy: 0.7030 - loss: 0.7148 - val_accuracy: 1.0000 - val_loss: 0.3607\n",
            "Epoch 79/100\n",
            "\u001b[1m543/543\u001b[0m \u001b[32m━━━━━━━━━━━━━━━━━━━━\u001b[0m\u001b[37m\u001b[0m \u001b[1m10s\u001b[0m 18ms/step - accuracy: 0.7002 - loss: 0.7173 - val_accuracy: 0.7500 - val_loss: 0.4819\n",
            "Epoch 80/100\n",
            "\u001b[1m543/543\u001b[0m \u001b[32m━━━━━━━━━━━━━━━━━━━━\u001b[0m\u001b[37m\u001b[0m \u001b[1m10s\u001b[0m 19ms/step - accuracy: 0.7082 - loss: 0.7022 - val_accuracy: 1.0000 - val_loss: 0.2484\n",
            "Epoch 81/100\n",
            "\u001b[1m446/543\u001b[0m \u001b[32m━━━━━━━━━━━━━━━━\u001b[0m\u001b[37m━━━━\u001b[0m \u001b[1m1s\u001b[0m 18ms/step - accuracy: 0.7031 - loss: 0.7116"
          ]
        }
      ],
      "source": [
        "history = model.fit(\n",
        "    X_train, y_train,\n",
        "    epochs=100,\n",
        "    batch_size=64,\n",
        "    validation_split=1e-5,\n",
        "    verbose=1\n",
        ")\n"
      ]
    },
    {
      "cell_type": "markdown",
      "metadata": {
        "id": "_Dsd2YyT7UnK"
      },
      "source": [
        "Evaluate the Model"
      ]
    },
    {
      "cell_type": "code",
      "execution_count": null,
      "metadata": {
        "id": "U5faH5mW7V1i"
      },
      "outputs": [],
      "source": [
        "# Evaluate on Test Data\n",
        "test_loss, test_acc = model.evaluate(X_test, y_test)\n",
        "print(f\"Test Accuracy: {test_acc:.4f}\")\n",
        "\n",
        "# Predict on Test Data\n",
        "y_pred_probs = model.predict(X_test)\n",
        "y_pred = np.argmax(y_pred_probs, axis=1)\n",
        "\n",
        "# Classification Report\n",
        "print(\"\\nClassification Report:\\n\", classification_report(y_test, y_pred, target_names=['Withdrawn', 'Fail', 'Pass', 'Distinction']))\n",
        "\n",
        "# Confusion Matrix\n",
        "cm = confusion_matrix(y_test, y_pred)\n",
        "sns.heatmap(cm, annot=True, fmt=\"d\", cmap=\"Blues\", xticklabels=['Withdrawn', 'Fail', 'Pass', 'Distinction'], yticklabels=['Withdrawn', 'Fail', 'Pass', 'Distinction'])\n",
        "plt.xlabel(\"Predicted\")\n",
        "plt.ylabel(\"Actual\")\n",
        "plt.title(\"Confusion Matrix\")\n",
        "plt.show()\n"
      ]
    },
    {
      "cell_type": "markdown",
      "metadata": {
        "id": "EopecVPI7X_e"
      },
      "source": []
    },
    {
      "cell_type": "markdown",
      "metadata": {
        "id": "LRVwBcTj7YAy"
      },
      "source": [
        "Early Risk Prediction"
      ]
    },
    {
      "cell_type": "code",
      "execution_count": null,
      "metadata": {
        "id": "u9wUVP337aFl"
      },
      "outputs": [],
      "source": [
        "# Predict Early in Course (first 20% data)\n",
        "X_early = X_test[:len(X_test)//5]  # First 20% of students\n",
        "y_early_true = y_test[:len(y_test)//5]\n",
        "y_early_pred_probs = model.predict(X_early)\n",
        "y_early_pred = np.argmax(y_early_pred_probs, axis=1)\n",
        "\n",
        "print(\"\\nEarly Prediction Report:\\n\", classification_report(y_early_true, y_early_pred, target_names=['Withdrawn', 'Fail', 'Pass', 'Distinction']))\n"
      ]
    },
    {
      "cell_type": "code",
      "execution_count": null,
      "metadata": {
        "id": "DWyMlG8-8R8f"
      },
      "outputs": [],
      "source": [
        "# Save the trained model\n",
        "model.save(\"student_performance_prediction.h5\")\n",
        "print(\"Model saved successfully as 'student_performance_prediction.h5'\")\n"
      ]
    },
    {
      "cell_type": "code",
      "execution_count": null,
      "metadata": {
        "id": "kfhAWdHm8qPh"
      },
      "outputs": [],
      "source": [
        "# Pick a random student from test data\n",
        "sample_index = np.random.randint(0, len(X_test))  # Select a random index\n",
        "sample_sequence = X_test[sample_index]  # Extract the student's sequence\n",
        "\n",
        "# Expand dimensions to match model input shape\n",
        "sample_sequence = np.expand_dims(sample_sequence, axis=0)\n",
        "\n",
        "# Predict student performance\n",
        "predicted_probs = model.predict(sample_sequence)\n",
        "predicted_class = np.argmax(predicted_probs, axis=1)[0]\n",
        "\n",
        "# Map the prediction back to the original class labels\n",
        "class_labels = {0: \"Withdrawn\", 1: \"Fail\", 2: \"Pass\", 3: \"Distinction\"}\n",
        "\n",
        "# Print results\n",
        "print(f\"Actual Performance: {class_labels[y_test[sample_index]]}\")\n",
        "print(f\"Predicted Performance: {class_labels[predicted_class]}\")\n"
      ]
    }
  ],
  "metadata": {
    "accelerator": "TPU",
    "colab": {
      "gpuType": "V28",
      "provenance": []
    },
    "kernelspec": {
      "display_name": "Python 3",
      "name": "python3"
    },
    "language_info": {
      "name": "python"
    }
  },
  "nbformat": 4,
  "nbformat_minor": 0
}